{
 "cells": [
  {
   "cell_type": "code",
   "execution_count": 1,
   "metadata": {},
   "outputs": [],
   "source": [
    "import sys\n",
    "import os\n",
    "import time\n",
    "import threading\n",
    "import utilities\n",
    "\n",
    "from kortex_api.autogen.client_stubs.BaseClientRpc import BaseClient\n",
    "from kortex_api.autogen.client_stubs.BaseCyclicClientRpc import BaseCyclicClient\n",
    "\n",
    "from kortex_api.autogen.messages import Base_pb2, BaseCyclic_pb2, Common_pb2\n",
    "\n",
    "# Maximum allowed waiting time during actions (in seconds)\n",
    "TIMEOUT_DURATION = 20"
   ]
  },
  {
   "cell_type": "code",
   "execution_count": 2,
   "metadata": {},
   "outputs": [],
   "source": [
    "def check_for_end_or_abort(e):\n",
    "    \"\"\"Return a closure checking for END or ABORT notifications\n",
    "\n",
    "    Arguments:\n",
    "    e -- event to signal when the action is completed\n",
    "        (will be set when an END or ABORT occurs)\n",
    "    \"\"\"\n",
    "    def check(notification, e = e):\n",
    "        print(\"EVENT : \" + \\\n",
    "              Base_pb2.ActionEvent.Name(notification.action_event))\n",
    "        if notification.action_event == Base_pb2.ACTION_END \\\n",
    "        or notification.action_event == Base_pb2.ACTION_ABORT:\n",
    "            e.set()\n",
    "    return check\n",
    "\n",
    "\n",
    "def example_move_to_home_position(base):\n",
    "    # Make sure the arm is in Single Level Servoing mode\n",
    "    base_servo_mode = Base_pb2.ServoingModeInformation()\n",
    "    base_servo_mode.servoing_mode = Base_pb2.SINGLE_LEVEL_SERVOING\n",
    "    base.SetServoingMode(base_servo_mode)\n",
    "    \n",
    "    # Move arm to ready position\n",
    "    print(\"Moving the arm to a safe position\")\n",
    "    action_type = Base_pb2.RequestedActionType()\n",
    "    action_type.action_type = Base_pb2.REACH_JOINT_ANGLES\n",
    "    action_list = base.ReadAllActions(action_type)\n",
    "    action_handle = None\n",
    "    for action in action_list.action_list:\n",
    "        if action.name == \"Home\":\n",
    "            action_handle = action.handle\n",
    "\n",
    "    if action_handle == None:\n",
    "        print(\"Can't reach safe position. Exiting\")\n",
    "        return False\n",
    "\n",
    "    e = threading.Event()\n",
    "    notification_handle = base.OnNotificationActionTopic(\n",
    "        check_for_end_or_abort(e),\n",
    "        Base_pb2.NotificationOptions()\n",
    "    )\n",
    "\n",
    "    base.ExecuteActionFromReference(action_handle)\n",
    "    finished = e.wait(TIMEOUT_DURATION)\n",
    "    base.Unsubscribe(notification_handle)\n",
    "\n",
    "    if finished:\n",
    "        print(\"Safe position reached\")\n",
    "    else:\n",
    "        print(\"Timeout on action notification wait\")\n",
    "    return finished"
   ]
  },
  {
   "cell_type": "markdown",
   "metadata": {},
   "source": [
    "!!!!!!! ROBOT MOVING!!!!!!"
   ]
  },
  {
   "cell_type": "code",
   "execution_count": 11,
   "metadata": {},
   "outputs": [
    {
     "name": "stdout",
     "output_type": "stream",
     "text": [
      "Logging as admin on device 192.168.1.10\n",
      "Moving the arm to a safe position\n",
      "EVENT : ACTION_START\n",
      "EVENT : ACTION_END\n",
      "Safe position reached\n"
     ]
    }
   ],
   "source": [
    "class TCPArguments:\n",
    "    def __init__(self):\n",
    "        self.ip = \"192.168.1.10\"\n",
    "        self.username = \"admin\"\n",
    "        self.password = \"admin\"\n",
    "\n",
    "args = TCPArguments()\n",
    "# Create connection to the device and get the router\n",
    "with utilities.DeviceConnection.createTcpConnection(args) as router:\n",
    "\n",
    "    # Create required services\n",
    "    base = BaseClient(router)\n",
    "    base_cyclic = BaseCyclicClient(router)\n",
    "\n",
    "    # Example core\n",
    "    success = True\n",
    "\n",
    "    success &= example_move_to_home_position(base)\n"
   ]
  }
 ],
 "metadata": {
  "kernelspec": {
   "display_name": ".venv",
   "language": "python",
   "name": "python3"
  },
  "language_info": {
   "codemirror_mode": {
    "name": "ipython",
    "version": 3
   },
   "file_extension": ".py",
   "mimetype": "text/x-python",
   "name": "python",
   "nbconvert_exporter": "python",
   "pygments_lexer": "ipython3",
   "version": "3.10.12"
  }
 },
 "nbformat": 4,
 "nbformat_minor": 2
}
